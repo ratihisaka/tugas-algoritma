{
  "nbformat": 4,
  "nbformat_minor": 0,
  "metadata": {
    "colab": {
      "provenance": [],
      "authorship_tag": "ABX9TyPZY11rbiB8yUqQxF0sQ1Uw",
      "include_colab_link": true
    },
    "kernelspec": {
      "name": "python3",
      "display_name": "Python 3"
    },
    "language_info": {
      "name": "python"
    }
  },
  "cells": [
    {
      "cell_type": "markdown",
      "metadata": {
        "id": "view-in-github",
        "colab_type": "text"
      },
      "source": [
        "<a href=\"https://colab.research.google.com/github/ratihisaka/tugas-algoritma/blob/main/2308541017_Bilangan%20Prima_Dewa%20Ayu%20Ratih%20Isaka%20Putri.ipynb\" target=\"_parent\"><img src=\"https://colab.research.google.com/assets/colab-badge.svg\" alt=\"Open In Colab\"/></a>"
      ]
    },
    {
      "cell_type": "code",
      "execution_count": 10,
      "metadata": {
        "colab": {
          "base_uri": "https://localhost:8080/"
        },
        "id": "-jbZtVzYa6l1",
        "outputId": "7c202615-1eb0-4cd1-9581-21be9296366b"
      },
      "outputs": [
        {
          "output_type": "stream",
          "name": "stdout",
          "text": [
            "Temukan Bilangan Prima dalam Rentang Tertentu!\n",
            "==============================================\n",
            "Diketahui nilai n = 17, maka n + 1 = 18\n",
            "Sehingga rentang bilangan prima yang akan dicari yaitu antara 17000 dan 18000\n",
            "==============================================================================\n",
            "Bilangan prima antara 17000 dan 18000 adalah: [17011, 17021, 17027, 17029, 17033, 17041, 17047, 17053, 17077, 17093, 17099, 17107, 17117, 17123, 17137, 17159, 17167, 17183, 17189, 17191, 17203, 17207, 17209, 17231, 17239, 17257, 17291, 17293, 17299, 17317, 17321, 17327, 17333, 17341, 17351, 17359, 17377, 17383, 17387, 17389, 17393, 17401, 17417, 17419, 17431, 17443, 17449, 17467, 17471, 17477, 17483, 17489, 17491, 17497, 17509, 17519, 17539, 17551, 17569, 17573, 17579, 17581, 17597, 17599, 17609, 17623, 17627, 17657, 17659, 17669, 17681, 17683, 17707, 17713, 17729, 17737, 17747, 17749, 17761, 17783, 17789, 17791, 17807, 17827, 17837, 17839, 17851, 17863, 17881, 17891, 17903, 17909, 17911, 17921, 17923, 17929, 17939, 17957, 17959, 17971, 17977, 17981, 17987, 17989]\n",
            "Jumlah bilangan prima dalam rentang 17000 dan 18000 adalah: 104\n"
          ]
        }
      ],
      "source": [
        "#TUGAS ALGORITMA\n",
        "#Jika diketahui bahwa 𝑛 adalah dua digit terakhir dari NIM kalian, maka tentukan bilangan prima antara 1000(𝑛) dan 1000(𝑛+1)\n",
        "#Jika NIM = 2308541017, maka 𝑛 = 17 dan 𝑛+1 = 18\n",
        "\n",
        "print(\"Temukan Bilangan Prima dalam Rentang Tertentu!\")\n",
        "print('==============================================')\n",
        "#Masukkan nilai 𝑛 dengan dua digit terakhir NIM\n",
        "n_17 = 17\n",
        "print(f\"Diketahui nilai n = {n_17}, maka n + 1 = {n_17 + 1}\")\n",
        "#Menentukan rentang bilangan prima yaitu antara 1000(𝑛) dan 1000(𝑛+1)\n",
        "awal_17 = 1000 * n_17\n",
        "akhir_17 = 1000 * (n_17 + 1)\n",
        "print(f\"Sehingga rentang bilangan prima yang akan dicari yaitu antara {awal_17} dan {akhir_17}\")\n",
        "print('==============================================================================')\n",
        "\n",
        "#Definisikan bilangan prima\n",
        "prima_17 = [] #Gunakan array untuk menyimpan semua bilangan prima yang ditemukan dalam rentang yang ditentukan\n",
        "for angka_17 in range(awal_17, akhir_17): #Fungsi untuk menemukan bilangan prima dalam rentang tertentu.\n",
        "    prima_angka_17 = True\n",
        "    if angka_17 < 2:\n",
        "        prima_angka_17 = False\n",
        "    else:\n",
        "        for i_17 in range(2, int(angka_17**0.5) + 1):\n",
        "            if angka_17 % i_17 == 0:\n",
        "              prima_angka_17 = False\n",
        "              break\n",
        "    if prima_angka_17:\n",
        "        prima_17.append(angka_17) #gunakan append untuk menambahkan setiap bilangan prima yang ditemukan\n",
        "\n",
        "print(f\"Bilangan prima antara {awal_17} dan {akhir_17} adalah:\", prima_17)\n",
        "print(f\"Jumlah bilangan prima dalam rentang {awal_17} dan {akhir_17} adalah:\", len(prima_17)) #gunakan fungsi len untuk mengetahui banyak bilangan prima pada rentang 17000-18000\n"
      ]
    },
    {
      "cell_type": "code",
      "source": [],
      "metadata": {
        "id": "-Y57KkI0uosY"
      },
      "execution_count": null,
      "outputs": []
    }
  ]
}